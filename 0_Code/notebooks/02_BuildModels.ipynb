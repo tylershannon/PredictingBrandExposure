{
 "cells": [
  {
   "cell_type": "markdown",
   "metadata": {},
   "source": [
    "# Predicting Brand Exposure"
   ]
  },
  {
   "cell_type": "markdown",
   "metadata": {
    "collapsed": true
   },
   "source": [
    "## 02_Build Models\n",
    "* Load in data from previous steps\n",
    "* Construct various predictive models\n",
    "* Evaluate and select best model for predictions"
   ]
  },
  {
   "cell_type": "markdown",
   "metadata": {},
   "source": [
    "## Import and Load Data"
   ]
  },
  {
   "cell_type": "code",
   "execution_count": 1,
   "metadata": {
    "collapsed": true
   },
   "outputs": [],
   "source": [
    "import pandas as pd\n",
    "\n",
    "df = pd.read_excel('../data_archives/df_processed.xlsx')"
   ]
  },
  {
   "cell_type": "code",
   "execution_count": 2,
   "metadata": {},
   "outputs": [
    {
     "data": {
      "text/html": [
       "<div>\n",
       "<style scoped>\n",
       "    .dataframe tbody tr th:only-of-type {\n",
       "        vertical-align: middle;\n",
       "    }\n",
       "\n",
       "    .dataframe tbody tr th {\n",
       "        vertical-align: top;\n",
       "    }\n",
       "\n",
       "    .dataframe thead th {\n",
       "        text-align: right;\n",
       "    }\n",
       "</style>\n",
       "<table border=\"1\" class=\"dataframe\">\n",
       "  <thead>\n",
       "    <tr style=\"text-align: right;\">\n",
       "      <th></th>\n",
       "      <th>index</th>\n",
       "      <th>name</th>\n",
       "      <th>lat</th>\n",
       "      <th>long</th>\n",
       "      <th>google_id</th>\n",
       "      <th>venue_type</th>\n",
       "      <th>Monday</th>\n",
       "      <th>Tuesday</th>\n",
       "      <th>Wednesday</th>\n",
       "      <th>Thursday</th>\n",
       "      <th>Friday</th>\n",
       "      <th>Saturday</th>\n",
       "      <th>Sunday</th>\n",
       "      <th>WeekTotals</th>\n",
       "      <th>mapped_venue_type</th>\n",
       "    </tr>\n",
       "  </thead>\n",
       "  <tbody>\n",
       "    <tr>\n",
       "      <th>0</th>\n",
       "      <td>0</td>\n",
       "      <td>Ellis PC</td>\n",
       "      <td>42.348034</td>\n",
       "      <td>-71.041187</td>\n",
       "      <td>ChIJq6qaXoJ644kRoNxCzt2rYyw</td>\n",
       "      <td>['accounting', 'finance', 'point_of_interest',...</td>\n",
       "      <td>0</td>\n",
       "      <td>0</td>\n",
       "      <td>0</td>\n",
       "      <td>0</td>\n",
       "      <td>0</td>\n",
       "      <td>0</td>\n",
       "      <td>0</td>\n",
       "      <td>0</td>\n",
       "      <td>finance</td>\n",
       "    </tr>\n",
       "    <tr>\n",
       "      <th>1</th>\n",
       "      <td>1</td>\n",
       "      <td>WithumSmith+Brown, PC</td>\n",
       "      <td>42.349607</td>\n",
       "      <td>-71.042722</td>\n",
       "      <td>ChIJydm7oHhw44kRYeJauZOvntA</td>\n",
       "      <td>['accounting', 'finance', 'point_of_interest',...</td>\n",
       "      <td>0</td>\n",
       "      <td>0</td>\n",
       "      <td>0</td>\n",
       "      <td>0</td>\n",
       "      <td>0</td>\n",
       "      <td>0</td>\n",
       "      <td>0</td>\n",
       "      <td>0</td>\n",
       "      <td>finance</td>\n",
       "    </tr>\n",
       "    <tr>\n",
       "      <th>2</th>\n",
       "      <td>2</td>\n",
       "      <td>Cantor Stefanie D</td>\n",
       "      <td>42.349819</td>\n",
       "      <td>-71.042828</td>\n",
       "      <td>ChIJ0VvNp3hw44kRxv4C86Zgsi8</td>\n",
       "      <td>['lawyer', 'accounting', 'finance', 'point_of_...</td>\n",
       "      <td>0</td>\n",
       "      <td>0</td>\n",
       "      <td>0</td>\n",
       "      <td>0</td>\n",
       "      <td>0</td>\n",
       "      <td>0</td>\n",
       "      <td>0</td>\n",
       "      <td>0</td>\n",
       "      <td>professional_services</td>\n",
       "    </tr>\n",
       "    <tr>\n",
       "      <th>3</th>\n",
       "      <td>3</td>\n",
       "      <td>Goodwin Procter Boston</td>\n",
       "      <td>42.352191</td>\n",
       "      <td>-71.043785</td>\n",
       "      <td>ChIJzyWROoRw44kR__T4RIymGyw</td>\n",
       "      <td>['accounting', 'lawyer', 'finance', 'point_of_...</td>\n",
       "      <td>690</td>\n",
       "      <td>947</td>\n",
       "      <td>788</td>\n",
       "      <td>1020</td>\n",
       "      <td>630</td>\n",
       "      <td>0</td>\n",
       "      <td>0</td>\n",
       "      <td>4075</td>\n",
       "      <td>finance</td>\n",
       "    </tr>\n",
       "    <tr>\n",
       "      <th>4</th>\n",
       "      <td>4</td>\n",
       "      <td>PwC</td>\n",
       "      <td>42.351162</td>\n",
       "      <td>-71.045188</td>\n",
       "      <td>ChIJ30VlLIJw44kRk4x9eEYUtbg</td>\n",
       "      <td>['accounting', 'finance', 'point_of_interest',...</td>\n",
       "      <td>525</td>\n",
       "      <td>558</td>\n",
       "      <td>575</td>\n",
       "      <td>644</td>\n",
       "      <td>755</td>\n",
       "      <td>0</td>\n",
       "      <td>0</td>\n",
       "      <td>3057</td>\n",
       "      <td>finance</td>\n",
       "    </tr>\n",
       "  </tbody>\n",
       "</table>\n",
       "</div>"
      ],
      "text/plain": [
       "   index                    name        lat       long  \\\n",
       "0      0                Ellis PC  42.348034 -71.041187   \n",
       "1      1   WithumSmith+Brown, PC  42.349607 -71.042722   \n",
       "2      2       Cantor Stefanie D  42.349819 -71.042828   \n",
       "3      3  Goodwin Procter Boston  42.352191 -71.043785   \n",
       "4      4                     PwC  42.351162 -71.045188   \n",
       "\n",
       "                     google_id  \\\n",
       "0  ChIJq6qaXoJ644kRoNxCzt2rYyw   \n",
       "1  ChIJydm7oHhw44kRYeJauZOvntA   \n",
       "2  ChIJ0VvNp3hw44kRxv4C86Zgsi8   \n",
       "3  ChIJzyWROoRw44kR__T4RIymGyw   \n",
       "4  ChIJ30VlLIJw44kRk4x9eEYUtbg   \n",
       "\n",
       "                                          venue_type  Monday  Tuesday  \\\n",
       "0  ['accounting', 'finance', 'point_of_interest',...       0        0   \n",
       "1  ['accounting', 'finance', 'point_of_interest',...       0        0   \n",
       "2  ['lawyer', 'accounting', 'finance', 'point_of_...       0        0   \n",
       "3  ['accounting', 'lawyer', 'finance', 'point_of_...     690      947   \n",
       "4  ['accounting', 'finance', 'point_of_interest',...     525      558   \n",
       "\n",
       "   Wednesday  Thursday  Friday  Saturday  Sunday  WeekTotals  \\\n",
       "0          0         0       0         0       0           0   \n",
       "1          0         0       0         0       0           0   \n",
       "2          0         0       0         0       0           0   \n",
       "3        788      1020     630         0       0        4075   \n",
       "4        575       644     755         0       0        3057   \n",
       "\n",
       "       mapped_venue_type  \n",
       "0                finance  \n",
       "1                finance  \n",
       "2  professional_services  \n",
       "3                finance  \n",
       "4                finance  "
      ]
     },
     "execution_count": 2,
     "metadata": {},
     "output_type": "execute_result"
    }
   ],
   "source": [
    "#inspect data\n",
    "df.head()"
   ]
  },
  {
   "cell_type": "markdown",
   "metadata": {},
   "source": [
    "## Prepare Train, Test, and Validation Data"
   ]
  },
  {
   "cell_type": "code",
   "execution_count": 221,
   "metadata": {},
   "outputs": [
    {
     "data": {
      "text/plain": [
       "\"#scale lat long\\nScaler = MinMaxScaler()\\nScaler.fit(X[['lat','long']])\\nX[['lat','long']] = Scaler.transform(X[['lat','long']])\""
      ]
     },
     "execution_count": 221,
     "metadata": {},
     "output_type": "execute_result"
    }
   ],
   "source": [
    "from sklearn.preprocessing import MinMaxScaler\n",
    "from keras.utils import to_categorical\n",
    "from pandas import get_dummies\n",
    "\n",
    "#split data into features and labels\n",
    "X = df[df['WeekTotals']>0][['lat','long','mapped_venue_type']]\n",
    "y = df[df['WeekTotals']>0]['WeekTotals']\n",
    "\n",
    "#encode categorical variable\n",
    "X = pd.get_dummies(X, columns=[\"mapped_venue_type\"])\n",
    "\n",
    "X = np.array(X)\n",
    "y = np.array(y)\n",
    "\n",
    "'''#scale lat long\n",
    "Scaler = MinMaxScaler()\n",
    "Scaler.fit(X[['lat','long']])\n",
    "X[['lat','long']] = Scaler.transform(X[['lat','long']])'''"
   ]
  },
  {
   "cell_type": "code",
   "execution_count": 133,
   "metadata": {},
   "outputs": [],
   "source": [
    "from sklearn.model_selection import train_test_split\n",
    "\n",
    "X_train, X_test, y_train, y_test = train_test_split(X,y,test_size=0.2,random_state=42,shuffle=True)"
   ]
  },
  {
   "cell_type": "markdown",
   "metadata": {},
   "source": [
    "## Build Random Forest"
   ]
  },
  {
   "cell_type": "code",
   "execution_count": 134,
   "metadata": {
    "collapsed": true
   },
   "outputs": [],
   "source": [
    "from sklearn.model_selection import GridSearchCV\n",
    "from sklearn.ensemble import RandomForestRegressor\n",
    "import numpy as np"
   ]
  },
  {
   "cell_type": "code",
   "execution_count": 135,
   "metadata": {
    "collapsed": true
   },
   "outputs": [],
   "source": [
    "def evaluate(model, test_features, test_labels):\n",
    "    predictions = model.predict(test_features)\n",
    "    errors = abs(predictions - test_labels)\n",
    "    mape = 100 * np.mean(errors / test_labels)\n",
    "    accuracy = 100 - mape\n",
    "    print('Model Performance')\n",
    "    print('Average Error: {:0.4f} degrees.'.format(np.mean(errors)))\n",
    "    print('Accuracy = {:0.2f}%.'.format(accuracy))\n",
    "    \n",
    "    return accuracy"
   ]
  },
  {
   "cell_type": "code",
   "execution_count": 215,
   "metadata": {},
   "outputs": [
    {
     "name": "stdout",
     "output_type": "stream",
     "text": [
      "Fitting 3 folds for each of 1050 candidates, totalling 3150 fits\n"
     ]
    },
    {
     "name": "stderr",
     "output_type": "stream",
     "text": [
      "[Parallel(n_jobs=-1)]: Done 268 tasks      | elapsed:    2.8s\n",
      "[Parallel(n_jobs=-1)]: Done 1472 tasks      | elapsed:   13.1s\n"
     ]
    },
    {
     "name": "stdout",
     "output_type": "stream",
     "text": [
      "========================================\n",
      "Finished training\n",
      "========================================\n",
      "Parameters of best estimator...\n",
      "{'max_depth': 40, 'max_features': 12, 'min_samples_split': 40, 'n_estimators': 40}\n",
      "========================================\n",
      "Best estimator accuracy...\n",
      "Model Performance\n",
      "Average Error: 927.5984 degrees.\n",
      "Accuracy = 64.92%.\n",
      "64.9157590076\n"
     ]
    },
    {
     "name": "stderr",
     "output_type": "stream",
     "text": [
      "[Parallel(n_jobs=-1)]: Done 3150 out of 3150 | elapsed:   28.5s finished\n"
     ]
    }
   ],
   "source": [
    "from sklearn.ensemble import RandomForestRegressor\n",
    "from sklearn.datasets import make_regression\n",
    "#define parameters to search\n",
    "param_grid = {\n",
    "    'n_estimators': [10,20,30,40,50,100],\n",
    "    'max_features':[9,10,11,12,13,14,15],\n",
    "    'max_depth':[40,45,50,75,100],\n",
    "    'min_samples_split':[40,45,50,55,60]\n",
    "}\n",
    "\n",
    "#create regressor object\n",
    "regr = RandomForestRegressor(min_samples_leaf=2,criterion='mse',random_state=2222)\n",
    "#create grid search object\n",
    "grid_search = GridSearchCV(estimator = regr, param_grid = param_grid, cv = 3, n_jobs = -1, verbose = 1)\n",
    "#fit grid search object\n",
    "grid_search.fit(X_train, y_train)\n",
    "print(\"========================================\")\n",
    "print(\"Finished training\")\n",
    "print(\"========================================\")\n",
    "print(\"Parameters of best estimator...\")\n",
    "best_grid = grid_search.best_estimator_\n",
    "print(grid_search.best_params_)\n",
    "print(\"========================================\")\n",
    "print(\"Best estimator accuracy...\")\n",
    "grid_accuracy = evaluate(best_grid, X_test, y_test)\n",
    "print(grid_accuracy)"
   ]
  },
  {
   "cell_type": "code",
   "execution_count": 226,
   "metadata": {},
   "outputs": [
    {
     "name": "stdout",
     "output_type": "stream",
     "text": [
      "===============================================================================\n",
      "===============================================================================\n",
      "GridSearch Model\n",
      "===============================================================================\n",
      "===============================================================================\n",
      "Model Performance\n",
      "Average Error: 927.5984 degrees.\n",
      "Accuracy = 64.92%.\n",
      "64.9157590076\n",
      "---------------------Example Prediction on Existing Data-----------------------\n",
      "-------------------------------------------------------------------------------\n",
      "features: [ 42.3515452 -71.0498813   0.          0.          0.          0.          1.\n",
      "   0.          0.          0.          0.          0.          0.          0.\n",
      "   0.       ]\n",
      "count_actual: 2454\n",
      "count_prediction: [ 3385.74830623]\n",
      "===============================================================================\n",
      "===============================================================================\n",
      "Base Model\n",
      "===============================================================================\n",
      "===============================================================================\n",
      "Model Performance\n",
      "Average Error: 1028.6302 degrees.\n",
      "Accuracy = 61.88%.\n",
      "61.8841530367\n",
      "---------------------Example Prediction on Existing Data-----------------------\n",
      "-------------------------------------------------------------------------------\n",
      "features: [ 42.3515452 -71.0498813   0.          0.          0.          0.          1.\n",
      "   0.          0.          0.          0.          0.          0.          0.\n",
      "   0.       ]\n",
      "count_actual: 2454\n",
      "count_prediction: [ 3831.8]\n"
     ]
    }
   ],
   "source": [
    "i = 9\n",
    "print(\"===============================================================================\")\n",
    "print(\"===============================================================================\")\n",
    "print(\"GridSearch Model\")\n",
    "print(\"===============================================================================\")\n",
    "print(\"===============================================================================\")\n",
    "print(evaluate(best_grid,X_test,y_test))\n",
    "print(\"---------------------Example Prediction on Existing Data-----------------------\")\n",
    "print(\"-------------------------------------------------------------------------------\")\n",
    "print(\"features:\",X[i])\n",
    "print(\"count_actual:\",y[i])\n",
    "print(\"count_prediction:\",best_grid.predict(X[i].reshape(1,-1)))\n",
    "print(\"===============================================================================\")\n",
    "print(\"===============================================================================\")\n",
    "print(\"Base Model\")\n",
    "print(\"===============================================================================\")\n",
    "print(\"===============================================================================\")\n",
    "print(evaluate(base_regr,X_test,y_test))\n",
    "print(\"---------------------Example Prediction on Existing Data-----------------------\")\n",
    "print(\"-------------------------------------------------------------------------------\")\n",
    "print(\"features:\",X[i])\n",
    "print(\"count_actual:\",y[i])\n",
    "print(\"count_prediction:\",base_regr.predict(X[i].reshape(1,-1)))"
   ]
  },
  {
   "cell_type": "code",
   "execution_count": null,
   "metadata": {
    "collapsed": true
   },
   "outputs": [],
   "source": []
  }
 ],
 "metadata": {
  "kernelspec": {
   "display_name": "Python 3",
   "language": "python",
   "name": "python3"
  },
  "language_info": {
   "codemirror_mode": {
    "name": "ipython",
    "version": 3
   },
   "file_extension": ".py",
   "mimetype": "text/x-python",
   "name": "python",
   "nbconvert_exporter": "python",
   "pygments_lexer": "ipython3",
   "version": "3.6.3"
  }
 },
 "nbformat": 4,
 "nbformat_minor": 2
}
